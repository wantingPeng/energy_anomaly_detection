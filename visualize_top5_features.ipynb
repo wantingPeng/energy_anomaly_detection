{
  "cells": [
    {
      "cell_type": "raw",
      "metadata": {
        "vscode": {
          "languageId": "raw"
        }
      },
      "source": [
        "# Visualizing Top 5 Features Over Time\n"
      ]
    },
    {
      "cell_type": "code",
      "execution_count": null,
      "metadata": {},
      "outputs": [],
      "source": [
        "import pandas as pd\n",
        "import matplotlib.pyplot as plt\n",
        "import numpy as np\n",
        "import seaborn as sns\n",
        "from utils.logger import logger\n",
        "\n",
        "# Set style for better visualization\n",
        "plt.style.use('seaborn-v0_8-darkgrid')\n",
        "sns.set(font_scale=1.2)\n",
        "plt.rcParams['figure.figsize'] = (16, 10)\n"
      ]
    },
    {
      "cell_type": "code",
      "execution_count": null,
      "metadata": {},
      "outputs": [],
      "source": [
        "# Load data from parquet file\n",
        "file_path = \"Data/downsampleData_scratch_1minut/Contacting_cleaned_1minut_20250802_170647.parquet\"\n",
        "df = pd.read_parquet(file_path)\n",
        "\n",
        "# Check the first few rows of data\n",
        "df.head()\n"
      ]
    },
    {
      "cell_type": "code",
      "execution_count": null,
      "metadata": {},
      "outputs": [],
      "source": [
        "# Check data info and missing values\n",
        "print(\"Data shape:\", df.shape)\n",
        "print(\"\\nColumns in the dataset:\")\n",
        "print(df.columns.tolist())\n",
        "print(\"\\nMissing values:\")\n",
        "print(df.isna().sum())\n"
      ]
    },
    {
      "cell_type": "raw",
      "metadata": {
        "vscode": {
          "languageId": "raw"
        }
      },
      "source": [
        "# 前5个特征时间序列可视化\n",
        "\n",
        "本脚本用于可视化能源异常检测数据中前5个特征随时间的变化趋势\n"
      ]
    },
    {
      "cell_type": "code",
      "execution_count": null,
      "metadata": {},
      "outputs": [],
      "source": [
        "import pandas as pd\n",
        "import matplotlib.pyplot as plt\n",
        "import numpy as np\n",
        "import seaborn as sns\n",
        "from datetime import datetime\n",
        "import warnings\n",
        "warnings.filterwarnings('ignore')\n",
        "\n",
        "# 设置中文字体支持\n",
        "plt.rcParams['font.sans-serif'] = ['DejaVu Sans', 'SimHei']\n",
        "plt.rcParams['axes.unicode_minus'] = False\n",
        "\n",
        "# 设置图像样式\n",
        "plt.style.use('seaborn-v0_8')\n",
        "sns.set_palette(\"husl\")\n",
        "\n",
        "print(\"Libraries loaded successfully!\")\n"
      ]
    },
    {
      "cell_type": "code",
      "execution_count": null,
      "metadata": {},
      "outputs": [],
      "source": [
        "# 加载数据\n",
        "data_path = 'Data/downsampleData_scratch_1minut/Contacting_cleaned_1minut_20250802_170647.parquet'\n",
        "print(f\"Loading data from: {data_path}\")\n",
        "\n",
        "try:\n",
        "    df = pd.read_parquet(data_path)\n",
        "    print(f\"Data loaded successfully! Shape: {df.shape}\")\n",
        "    print(f\"Columns: {list(df.columns)}\")\n",
        "    print(f\"\\nFirst 5 rows:\")\n",
        "    print(df.head())\n",
        "except Exception as e:\n",
        "    print(f\"Error loading data: {e}\")\n"
      ]
    },
    {
      "cell_type": "code",
      "execution_count": null,
      "metadata": {},
      "outputs": [],
      "source": [
        "# 数据基本信息\n",
        "print(\"数据基本信息:\")\n",
        "print(f\"数据形状: {df.shape}\")\n",
        "print(f\"\\n数据类型:\")\n",
        "print(df.dtypes)\n",
        "print(f\"\\n缺失值统计:\")\n",
        "print(df.isnull().sum())\n"
      ]
    },
    {
      "cell_type": "code",
      "execution_count": null,
      "metadata": {},
      "outputs": [],
      "source": [
        "# 确保TimeStamp是datetime类型\n",
        "if 'TimeStamp' in df.columns:\n",
        "    df['TimeStamp'] = pd.to_datetime(df['TimeStamp'])\n",
        "    print(f\"TimeStamp range: {df['TimeStamp'].min()} to {df['TimeStamp'].max()}\")\n",
        "    \n",
        "    # 按时间排序\n",
        "    df = df.sort_values('TimeStamp').reset_index(drop=True)\n",
        "    print(\"Data sorted by TimeStamp\")\n",
        "else:\n",
        "    print(\"Warning: TimeStamp column not found!\")\n"
      ]
    },
    {
      "cell_type": "code",
      "execution_count": null,
      "metadata": {},
      "outputs": [],
      "source": [
        "# 选取前5个特征（除了TimeStamp）\n",
        "feature_cols = [col for col in df.columns if col != 'TimeStamp']\n",
        "top5_features = feature_cols[:5]\n",
        "\n",
        "print(f\"前5个特征: {top5_features}\")\n",
        "\n",
        "# 选取子集数据用于可视化（如果数据量太大，可以采样）\n",
        "if len(df) > 10000:\n",
        "    # 等间隔采样，保留时间趋势\n",
        "    sample_step = len(df) // 10000\n",
        "    df_viz = df.iloc[::sample_step].copy()\n",
        "    print(f\"数据量较大，采样显示。原始数据: {len(df)} 行，采样后: {len(df_viz)} 行\")\n",
        "else:\n",
        "    df_viz = df.copy()\n",
        "    print(f\"使用全部数据进行可视化: {len(df_viz)} 行\")\n"
      ]
    },
    {
      "cell_type": "code",
      "execution_count": null,
      "metadata": {},
      "outputs": [],
      "source": [
        "# 创建子图显示所有特征\n",
        "fig, axes = plt.subplots(len(top5_features), 1, figsize=(15, 3*len(top5_features)))\n",
        "\n",
        "if len(top5_features) == 1:\n",
        "    axes = [axes]\n",
        "\n",
        "colors = ['blue', 'green', 'red', 'orange', 'purple']\n",
        "\n",
        "for i, feature in enumerate(top5_features):\n",
        "    if feature in df_viz.columns:\n",
        "        axes[i].plot(df_viz['TimeStamp'], df_viz[feature], \n",
        "                    color=colors[i % len(colors)], linewidth=0.8, alpha=0.8)\n",
        "        axes[i].set_title(f'{feature} 随时间变化趋势', fontsize=14, fontweight='bold')\n",
        "        axes[i].set_xlabel('时间', fontsize=12)\n",
        "        axes[i].set_ylabel(feature, fontsize=12)\n",
        "        axes[i].grid(True, alpha=0.3)\n",
        "        axes[i].tick_params(axis='x', rotation=45)\n",
        "        \n",
        "        # 添加统计信息\n",
        "        mean_val = df_viz[feature].mean()\n",
        "        std_val = df_viz[feature].std()\n",
        "        axes[i].axhline(y=mean_val, color='red', linestyle='--', alpha=0.7, \n",
        "                       label=f'Mean: {mean_val:.2f}')\n",
        "        axes[i].legend(loc='upper right')\n",
        "    else:\n",
        "        axes[i].text(0.5, 0.5, f'特征 {feature} 不存在', \n",
        "                    transform=axes[i].transAxes, ha='center', va='center')\n",
        "\n",
        "plt.tight_layout()\n",
        "plt.show()\n",
        "\n",
        "print(\"\\n各特征统计信息:\")\n",
        "for feature in top5_features:\n",
        "    if feature in df_viz.columns:\n",
        "        print(f\"{feature}: Mean={df_viz[feature].mean():.4f}, Std={df_viz[feature].std():.4f}, Min={df_viz[feature].min():.4f}, Max={df_viz[feature].max():.4f}\")\n"
      ]
    },
    {
      "cell_type": "code",
      "execution_count": null,
      "metadata": {},
      "outputs": [],
      "source": [
        "# 在一个图中显示所有特征（标准化后）\n",
        "fig, ax = plt.subplots(figsize=(15, 8))\n",
        "\n",
        "for i, feature in enumerate(top5_features):\n",
        "    if feature in df_viz.columns:\n",
        "        # 标准化数据\n",
        "        normalized_data = (df_viz[feature] - df_viz[feature].mean()) / df_viz[feature].std()\n",
        "        ax.plot(df_viz['TimeStamp'], normalized_data, \n",
        "               label=feature, color=colors[i % len(colors)], \n",
        "               linewidth=1.2, alpha=0.8)\n",
        "\n",
        "ax.set_title('前5个特征标准化后的时间序列对比', fontsize=16, fontweight='bold')\n",
        "ax.set_xlabel('时间', fontsize=14)\n",
        "ax.set_ylabel('标准化值', fontsize=14)\n",
        "ax.legend(bbox_to_anchor=(1.05, 1), loc='upper left')\n",
        "ax.grid(True, alpha=0.3)\n",
        "plt.xticks(rotation=45)\n",
        "plt.tight_layout()\n",
        "plt.show()\n"
      ]
    },
    {
      "cell_type": "code",
      "execution_count": null,
      "metadata": {},
      "outputs": [],
      "source": [
        "# 如果存在异常标签，显示异常点分布\n",
        "if 'anomaly_label' in df_viz.columns:\n",
        "    anomaly_count = df_viz['anomaly_label'].sum()\n",
        "    total_count = len(df_viz)\n",
        "    anomaly_rate = anomaly_count / total_count * 100\n",
        "    \n",
        "    print(f\"\\n异常检测统计:\")\n",
        "    print(f\"总样本数: {total_count}\")\n",
        "    print(f\"异常样本数: {anomaly_count}\")\n",
        "    print(f\"异常率: {anomaly_rate:.2f}%\")\n",
        "    \n",
        "    # 显示异常点在时间轴上的分布\n",
        "    fig, ax = plt.subplots(figsize=(15, 6))\n",
        "    \n",
        "    # 正常点\n",
        "    normal_mask = df_viz['anomaly_label'] == 0\n",
        "    anomaly_mask = df_viz['anomaly_label'] == 1\n",
        "    \n",
        "    ax.scatter(df_viz[normal_mask]['TimeStamp'], \n",
        "              np.zeros(normal_mask.sum()), \n",
        "              c='blue', alpha=0.6, s=10, label=f'正常点 ({normal_mask.sum()})')\n",
        "    \n",
        "    if anomaly_mask.sum() > 0:\n",
        "        ax.scatter(df_viz[anomaly_mask]['TimeStamp'], \n",
        "                  np.ones(anomaly_mask.sum()), \n",
        "                  c='red', alpha=0.8, s=20, label=f'异常点 ({anomaly_mask.sum()})')\n",
        "    \n",
        "    ax.set_title('异常点时间分布', fontsize=16, fontweight='bold')\n",
        "    ax.set_xlabel('时间', fontsize=14)\n",
        "    ax.set_ylabel('异常标签', fontsize=14)\n",
        "    ax.set_yticks([0, 1])\n",
        "    ax.set_yticklabels(['正常', '异常'])\n",
        "    ax.legend()\n",
        "    ax.grid(True, alpha=0.3)\n",
        "    plt.xticks(rotation=45)\n",
        "    plt.tight_layout()\n",
        "    plt.show()\n",
        "else:\n",
        "    print(\"\\n未找到异常标签列\")\n"
      ]
    },
    {
      "cell_type": "code",
      "execution_count": null,
      "metadata": {},
      "outputs": [],
      "source": [
        "# 相关性热力图\n",
        "if len(top5_features) > 1:\n",
        "    fig, ax = plt.subplots(figsize=(10, 8))\n",
        "    \n",
        "    # 计算特征间的相关性\n",
        "    correlation_matrix = df_viz[top5_features].corr()\n",
        "    \n",
        "    # 绘制热力图\n",
        "    sns.heatmap(correlation_matrix, annot=True, cmap='coolwarm', center=0,\n",
        "                square=True, fmt='.3f', cbar_kws={'shrink': 0.8}, ax=ax)\n",
        "    \n",
        "    ax.set_title('前5个特征相关性热力图', fontsize=16, fontweight='bold')\n",
        "    plt.tight_layout()\n",
        "    plt.show()\n",
        "    \n",
        "    print(\"\\n特征间相关性:\")\n",
        "    print(correlation_matrix)\n",
        "else:\n",
        "    print(\"\\n特征数量不足，无法计算相关性\")\n"
      ]
    },
    {
      "cell_type": "code",
      "execution_count": null,
      "metadata": {},
      "outputs": [],
      "source": [
        "print(\"\\n=== 数据可视化完成 ===\")\n",
        "print(f\"已展示前5个特征: {top5_features}\")\n",
        "print(\"所有图表已在上方显示，无需保存文件\")\n"
      ]
    },
    {
      "cell_type": "raw",
      "metadata": {
        "vscode": {
          "languageId": "raw"
        }
      },
      "source": [
        "\n"
      ]
    },
    {
      "cell_type": "code",
      "execution_count": null,
      "metadata": {},
      "outputs": [],
      "source": [
        "\n"
      ]
    },
    {
      "cell_type": "code",
      "execution_count": null,
      "metadata": {},
      "outputs": [],
      "source": [
        "\n"
      ]
    },
    {
      "cell_type": "code",
      "execution_count": null,
      "metadata": {},
      "outputs": [],
      "source": [
        "\n"
      ]
    },
    {
      "cell_type": "code",
      "execution_count": null,
      "metadata": {},
      "outputs": [],
      "source": [
        "\n"
      ]
    },
    {
      "cell_type": "code",
      "execution_count": null,
      "metadata": {},
      "outputs": [],
      "source": [
        "\n"
      ]
    }
  ],
  "metadata": {
    "kernelspec": {
      "display_name": ".venv",
      "language": "python",
      "name": "python3"
    },
    "language_info": {
      "name": "python",
      "version": "3.12.3"
    }
  },
  "nbformat": 4,
  "nbformat_minor": 2
}
